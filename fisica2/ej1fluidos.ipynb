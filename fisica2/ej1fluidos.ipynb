{
 "cells": [
  {
   "cell_type": "markdown",
   "metadata": {},
   "source": [
    "# Ejercicio 1:\n",
    "Calcula la masa de aire en una habitacion a $25°C$, de $5m$ de ancho,$8m$ de largo y $2.5m$ de altura. Densidad del aire a $25°C$:$1.18\\frac{kg}{m^3}$\n",
    " Datos:\n",
    " - Temperatura=$25°C$\n",
    " - ancho=$5m$\n",
    " - Largo=$8m$\n",
    " - Altura=$2.5m$\n",
    " - Densidad del aire $25°C$:$1.18\\frac{kg}{m^3}$\n",
    "\n",
    "Incognita:\n",
    "- masa=?\n",
    "\n",
    "Procedimiento\n",
    "- Tenemos la formula de densidad \n",
    "$$\\rho =\\frac{m}{V}$$\n",
    "\n",
    "- Necesitamos el volumen:\n",
    "$$ V = ancho * largo * altura$$\n",
    "$$ V = 5m* 8m * 2.5m$$\n",
    "$$ V =100m^3$$ \n",
    "\n",
    "- Despejamos la masa en la ecuacion de densidad \n",
    "$$m = \\rho * V $$\n",
    "\n",
    "- Obtener la masa del aire:\n",
    "$$m = 1.18 \\frac{kg}{m^3}* 100m^3 $$\n",
    "\n",
    "$$ m = 118kg$$\n",
    "\n",
    "\n",
    "\n"
   ]
  }
 ],
 "metadata": {
  "language_info": {
   "name": "python"
  }
 },
 "nbformat": 4,
 "nbformat_minor": 2
}
