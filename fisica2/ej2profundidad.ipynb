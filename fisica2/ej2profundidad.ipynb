{
 "cells": [
  {
   "cell_type": "markdown",
   "metadata": {},
   "source": [
    "$\\ Ejercicio 2$\n",
    "\n",
    "Un objeto sumergido en agua de mar experimenta una presion de $5 atm$.\n",
    "Calcula a que profundidad se encuentra.Densidad del agua de mar: $1030 \\frac{kg}{m^3}$\n",
    "\n",
    "Datos\n",
    "- Presion $5atm$\n",
    "\n",
    "- Densidad $1030\\frac{kg}{m^3}$\n",
    "\n",
    "- 1 atm = 101325 Pa\n",
    "\n",
    "-Gravedad de la tierra= $9.807\\frac{m}{s^2}$\n",
    "\n",
    "\n",
    "incognita\n",
    "- Profundidad=?\n",
    "\n",
    "Formula \n",
    "\n",
    "$$ \\P-Po=pgh $$\n",
    "\n",
    "- Necesitamos despejar la altura en la ecuacion de presion\n",
    "\n",
    " $$ h= \\frac{p-po}{p*g}$$\n",
    "\n",
    " Convertir $5atm$ a pascales \n",
    "\n",
    " - 1atm= 101,325 pascales\n",
    "\n",
    " - 5atm*101,325 Pa\n",
    "\n",
    " - 506,625 Pa\n",
    "\n",
    " Obtener la profundidad \n",
    "\n",
    " $$h= \\frac{506,265Pa-101,325Pa}{1,030\\frac{kg}{m^3}*9,81\\frac{m}{s^2}}$$\n",
    "\n",
    " $$h= \\frac{405,300}{10,104.3 \\frac{kg}{m^3}*\\frac{m}{s^2}}$$\n",
    "\n",
    " $$h= \\frac{405,300pa}{10,104.3\\frac{kg}{m^2 s^2}}$$\n",
    "\n",
    " $$h=40.116 m $$\n",
    "\n",
    "\n",
    "\n",
    "\n",
    "\n",
    "\n",
    "\n",
    "\n"
   ]
  }
 ],
 "metadata": {
  "language_info": {
   "name": "python"
  }
 },
 "nbformat": 4,
 "nbformat_minor": 2
}
