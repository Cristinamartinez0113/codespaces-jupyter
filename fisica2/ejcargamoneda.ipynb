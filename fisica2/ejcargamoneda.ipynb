{
 "cells": [
  {
   "cell_type": "markdown",
   "metadata": {},
   "source": [
    "$\\ Ejercicio 4$\n",
    "\n",
    "Tenemos una moneda de cobre con una masa de $3.1g$ ¿Cuál es la carga total de todos los electrones contenidos en la moneda?\n",
    "\n",
    "Datos}\n",
    "\n",
    "- m=3.1g\n",
    "- Z=29\n",
    "- A=63.55g\n",
    "- $N_A =6.02 X $ 10^{23} $\n",
    "- $q_e$ = -1.6 X $10^{-19} \n",
    "\n",
    "Incognita\n",
    "- q=?\n",
    "\n",
    "Procedimiento\n",
    "\n",
    "$$3.1g= \\frac {6.02 \\times 10^{23} atomos} {63.55g} $$\n",
    "\n",
    "$$3.1 \\cancel{g}= \\frac {1.8662\\times 10^{23} atomos} {63.55\\cancel {g}}  $$\n",
    "\n",
    "$$3.1 \\cancel{g}= \\frac {1.8662\\times 10^{23} atomos} {63.55\\cancel {g}} \\frac{electrones} {atomos} $$\n",
    "\n",
    "$$3.1 \\cancel{g}= \\frac {1.8662\\times 10^{23} atomos} {63.55\\cancel {g}} \\frac{electrones} { 1\\space atomos} $$\n",
    "\n",
    "$$3.1 \\cancel{g}= \\frac {1.8662\\times 10^{23} atomos} {63.55\\cancel {g}} \\frac{29 \\space electrones} {1 \\space atomos} $$\n",
    "\n",
    "$$3.1 \\cancel{g}= \\frac {1.8662\\times 10^{23} \\cancel{atomos}} {63.55\\cancel {g}} \\frac{29 \\space electrones} {1 \\space \\cancel{atomos}} $$\n",
    "\n",
    "$$3.1 \\cancel{g}= \\frac {1.8662\\times 10^{23} \\cancel{atomos}} {63.55\\cancel {g}} \\frac{29 \\space electrones} {1 \\space \\cancel{atomos}} \\frac{C}{ 1\\space electrones} $$\n",
    "\n",
    "\n",
    "$$3.1 \\cancel{g}= \\frac {1.8662\\times 10^{23} \\cancel{atomos}} {63.55\\cancel {g}} \\frac{29 \\space \\cancel{electrones}} {1 \\space \\cancel{atomos}} \\frac{-1.6 X 10^{-19}}  {1\\space \\cancel{electrones}}$$\n",
    "\n",
    "$$ q=1366257.561 C$$\n",
    "\n",
    "\n",
    "\n",
    "\n",
    "\n",
    "\n",
    "\n",
    "\n",
    "\n",
    "\n",
    "\n"
   ]
  }
 ],
 "metadata": {
  "language_info": {
   "name": "python"
  }
 },
 "nbformat": 4,
 "nbformat_minor": 2
}
